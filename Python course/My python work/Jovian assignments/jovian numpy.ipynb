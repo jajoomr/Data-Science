{
 "cells": [
  {
   "cell_type": "markdown",
   "id": "3302e1ae",
   "metadata": {},
   "source": [
    "# Most useful numpy functions to generate numpy array\n",
    "\n",
    "\n",
    "Numpy is an important libraby for Data Science with Python since almost all of the libraries in the PyData Ecosystem rely on NumPy as one of their main building blocks.\n",
    "\n",
    "This notebook will focus mainly on different ways of generating numpy arrays.\n",
    "- creating numpy array of zeroes and ones\n",
    "- creating identity matrix\n",
    "- creating an array in range\n",
    "- generating evenly spaced numbers between specified intervals\n",
    "- reshaping numpy arrays."
   ]
  },
  {
   "cell_type": "code",
   "execution_count": 1,
   "id": "e962da71",
   "metadata": {},
   "outputs": [],
   "source": [
    "#installing jovian\n",
    "!pip install jovian --upgrade -q"
   ]
  },
  {
   "cell_type": "code",
   "execution_count": 2,
   "id": "a8c851f8",
   "metadata": {},
   "outputs": [
    {
     "data": {
      "application/javascript": [
       "if (window.IPython && IPython.notebook.kernel) IPython.notebook.kernel.execute('jovian.utils.jupyter.get_notebook_name_saved = lambda: \"' + IPython.notebook.notebook_name + '\"')"
      ],
      "text/plain": [
       "<IPython.core.display.Javascript object>"
      ]
     },
     "metadata": {},
     "output_type": "display_data"
    }
   ],
   "source": [
    "#import jovian\n",
    "import jovian"
   ]
  },
  {
   "cell_type": "code",
   "execution_count": 3,
   "id": "5aa9c1c1",
   "metadata": {},
   "outputs": [
    {
     "data": {
      "application/javascript": [
       "window.require && require([\"base/js/namespace\"],function(Jupyter){Jupyter.notebook.save_checkpoint()})"
      ],
      "text/plain": [
       "<IPython.core.display.Javascript object>"
      ]
     },
     "metadata": {},
     "output_type": "display_data"
    },
    {
     "name": "stdout",
     "output_type": "stream",
     "text": [
      "[jovian] Attempting to save notebook..\n",
      "[jovian] Please enter your API key ( from https://jovian.ai/ ):\n",
      "API KEY: ········\n",
      "[jovian] Updating notebook \"mayurjajoomj/numpy-array-operations\" on https://jovian.ai/\n",
      "[jovian] Uploading notebook..\n",
      "[jovian] Capturing environment..\n",
      "[jovian] Committed successfully! https://jovian.ai/mayurjajoomj/numpy-array-operations\n"
     ]
    },
    {
     "data": {
      "text/plain": [
       "'https://jovian.ai/mayurjajoomj/numpy-array-operations'"
      ]
     },
     "execution_count": 3,
     "metadata": {},
     "output_type": "execute_result"
    }
   ],
   "source": [
    "jovian.commit(project='numpy-array-operations')"
   ]
  },
  {
   "cell_type": "markdown",
   "id": "fd9942fb",
   "metadata": {},
   "source": [
    "## 0. Creating a numpy array from Python list"
   ]
  },
  {
   "cell_type": "code",
   "execution_count": 25,
   "id": "a17baa60",
   "metadata": {},
   "outputs": [],
   "source": [
    "#import numpy\n",
    "import numpy as np"
   ]
  },
  {
   "cell_type": "code",
   "execution_count": 6,
   "id": "889b3ff4",
   "metadata": {},
   "outputs": [
    {
     "name": "stdout",
     "output_type": "stream",
     "text": [
      "List is:  [1, 2, 3, 4]\n",
      "Numpy array is:  [1 2 3 4]\n"
     ]
    }
   ],
   "source": [
    "#create a python list\n",
    "my_list = [1, 2, 3, 4]\n",
    "print(\"List is: \", my_list)\n",
    "\n",
    "#Create numpy array\n",
    "array = np.array(my_list)\n",
    "print(\"Numpy array is: \", array)"
   ]
  },
  {
   "cell_type": "markdown",
   "id": "d10e4c18",
   "metadata": {},
   "source": [
    "This was one simple way of creating a numpy array, let's look at some in built functions to create numpy array"
   ]
  },
  {
   "cell_type": "markdown",
   "id": "5540fe78",
   "metadata": {},
   "source": [
    "## 1. Numpy array of zeroes and ones\n",
    "`np.zeros()` and `np.ones()`can be used to create array consisting of only zeroes or ones respectively."
   ]
  },
  {
   "cell_type": "code",
   "execution_count": 9,
   "id": "2cd5b272",
   "metadata": {},
   "outputs": [
    {
     "data": {
      "text/plain": [
       "array([0., 0., 0., 0., 0., 0., 0., 0., 0., 0.])"
      ]
     },
     "execution_count": 9,
     "metadata": {},
     "output_type": "execute_result"
    }
   ],
   "source": [
    "#Zeroes\n",
    "#Just pass the number of elements in the method to create numpy array of zeroes\n",
    "np.zeros(10)"
   ]
  },
  {
   "cell_type": "code",
   "execution_count": 10,
   "id": "b61f56d4",
   "metadata": {},
   "outputs": [
    {
     "data": {
      "text/plain": [
       "array([1., 1., 1., 1., 1., 1., 1., 1., 1., 1.])"
      ]
     },
     "execution_count": 10,
     "metadata": {},
     "output_type": "execute_result"
    }
   ],
   "source": [
    "#Ones\n",
    "#similarly pass nummber of elements in np.ones to create numpy array of ones\n",
    "np.ones(10)"
   ]
  },
  {
   "cell_type": "markdown",
   "id": "8adfaec3",
   "metadata": {},
   "source": [
    "## 2. Creating Identity matrix\n",
    "`np.eye()` is used to create an identity matrix"
   ]
  },
  {
   "cell_type": "code",
   "execution_count": 13,
   "id": "630d1263",
   "metadata": {},
   "outputs": [
    {
     "data": {
      "text/plain": [
       "array([[1., 0., 0., 0., 0.],\n",
       "       [0., 1., 0., 0., 0.],\n",
       "       [0., 0., 1., 0., 0.],\n",
       "       [0., 0., 0., 1., 0.]])"
      ]
     },
     "execution_count": 13,
     "metadata": {},
     "output_type": "execute_result"
    }
   ],
   "source": [
    "#Identity matrix\n",
    "#Pass the shape of the identity matrix you wish to create\n",
    "np.eye(4,5)"
   ]
  },
  {
   "cell_type": "markdown",
   "id": "4e5cc53d",
   "metadata": {},
   "source": [
    "If you wish to create a square identity matrix (identity matrix with equal rows and columns)\n",
    "Then, you may just pass one parameter to the function.\n",
    "Example:"
   ]
  },
  {
   "cell_type": "code",
   "execution_count": 15,
   "id": "0221deb3",
   "metadata": {},
   "outputs": [
    {
     "data": {
      "text/plain": [
       "array([[1., 0., 0.],\n",
       "       [0., 1., 0.],\n",
       "       [0., 0., 1.]])"
      ]
     },
     "execution_count": 15,
     "metadata": {},
     "output_type": "execute_result"
    }
   ],
   "source": [
    "#Creating an identity matrix of shape 3x3\n",
    "#One way is np.eye(3,3), easier way is:\n",
    "np.eye(3)"
   ]
  },
  {
   "cell_type": "code",
   "execution_count": 52,
   "id": "454a8576",
   "metadata": {},
   "outputs": [
    {
     "data": {
      "application/javascript": [
       "window.require && require([\"base/js/namespace\"],function(Jupyter){Jupyter.notebook.save_checkpoint()})"
      ],
      "text/plain": [
       "<IPython.core.display.Javascript object>"
      ]
     },
     "metadata": {},
     "output_type": "display_data"
    },
    {
     "name": "stdout",
     "output_type": "stream",
     "text": [
      "[jovian] Attempting to save notebook..\n",
      "[jovian] Updating notebook \"mayurjajoomj/numpy-array-operations\" on https://jovian.ai/\n",
      "[jovian] Uploading notebook..\n",
      "[jovian] Capturing environment..\n",
      "[jovian] Committed successfully! https://jovian.ai/mayurjajoomj/numpy-array-operations\n"
     ]
    },
    {
     "data": {
      "text/plain": [
       "'https://jovian.ai/mayurjajoomj/numpy-array-operations'"
      ]
     },
     "execution_count": 52,
     "metadata": {},
     "output_type": "execute_result"
    }
   ],
   "source": [
    "jovian.commit()"
   ]
  },
  {
   "cell_type": "markdown",
   "id": "968af23b",
   "metadata": {},
   "source": [
    "## 3. Creating numpy array in range : `np.arange()`"
   ]
  },
  {
   "cell_type": "code",
   "execution_count": null,
   "id": "3ace25bf",
   "metadata": {},
   "outputs": [],
   "source": [
    "This function is used to create an array of elements in the specified range.\n",
    "The parameters passed are the range in which you want your element excluding the element in 2nd parameter.\n",
    "\n",
    "Refer the below example."
   ]
  },
  {
   "cell_type": "code",
   "execution_count": 20,
   "id": "abbe6160",
   "metadata": {},
   "outputs": [
    {
     "data": {
      "text/plain": [
       "array([ 1,  2,  3,  4,  5,  6,  7,  8,  9, 10])"
      ]
     },
     "execution_count": 20,
     "metadata": {},
     "output_type": "execute_result"
    }
   ],
   "source": [
    "#Create an array of elements from 1 t 10\n",
    "np.arange(1,11)"
   ]
  },
  {
   "cell_type": "markdown",
   "id": "d8079f61",
   "metadata": {},
   "source": [
    "The third parameter is the difference between each element.\n",
    "Refer the example below:"
   ]
  },
  {
   "cell_type": "code",
   "execution_count": 22,
   "id": "9111e5c8",
   "metadata": {},
   "outputs": [
    {
     "data": {
      "text/plain": [
       "array([1, 3, 5, 7, 9])"
      ]
     },
     "execution_count": 22,
     "metadata": {},
     "output_type": "execute_result"
    }
   ],
   "source": [
    "#Create an array of odd numbers from 1 to 10\n",
    "np.arange(1,11,2)"
   ]
  },
  {
   "cell_type": "code",
   "execution_count": 26,
   "id": "717ed4f1",
   "metadata": {},
   "outputs": [
    {
     "data": {
      "text/plain": [
       "array([  2,   4,   6,   8,  10,  12,  14,  16,  18,  20,  22,  24,  26,\n",
       "        28,  30,  32,  34,  36,  38,  40,  42,  44,  46,  48,  50,  52,\n",
       "        54,  56,  58,  60,  62,  64,  66,  68,  70,  72,  74,  76,  78,\n",
       "        80,  82,  84,  86,  88,  90,  92,  94,  96,  98, 100])"
      ]
     },
     "execution_count": 26,
     "metadata": {},
     "output_type": "execute_result"
    }
   ],
   "source": [
    "#Example 2\n",
    "#Create an array of even numbers from 2 to 100\n",
    "np.arange(2,101,2)"
   ]
  },
  {
   "cell_type": "markdown",
   "id": "c3a22d7e",
   "metadata": {},
   "source": [
    "## 4.  Evenly spaced numbers over a specified interval\n",
    "\n",
    "`np.linspace`"
   ]
  },
  {
   "cell_type": "markdown",
   "id": "6e19cd5a",
   "metadata": {},
   "source": [
    "To create an array of evenly spaced numbers, specify the interval range and the number of intervals.\n",
    "\n",
    "Refer the example below."
   ]
  },
  {
   "cell_type": "code",
   "execution_count": 30,
   "id": "635c811c",
   "metadata": {},
   "outputs": [
    {
     "data": {
      "text/plain": [
       "array([1., 2., 3., 4., 5.])"
      ]
     },
     "execution_count": 30,
     "metadata": {},
     "output_type": "execute_result"
    }
   ],
   "source": [
    "#Example\n",
    "#Creating 5 partitions between 1 to 5\n",
    "np.linspace(1,5,5)"
   ]
  },
  {
   "cell_type": "code",
   "execution_count": 48,
   "id": "e3f0be48",
   "metadata": {},
   "outputs": [
    {
     "data": {
      "text/plain": [
       "array([  1.,  12.,  23.,  34.,  45.,  56.,  67.,  78.,  89., 100.])"
      ]
     },
     "execution_count": 48,
     "metadata": {},
     "output_type": "execute_result"
    }
   ],
   "source": [
    "#Example 2\n",
    "#Creating 10 partitions between 1 and 100\n",
    "np.linspace(1,100, 10)"
   ]
  },
  {
   "cell_type": "code",
   "execution_count": 50,
   "id": "72b3f4a8",
   "metadata": {},
   "outputs": [
    {
     "data": {
      "text/plain": [
       "array([0.  , 0.25, 0.5 , 0.75, 1.  ])"
      ]
     },
     "execution_count": 50,
     "metadata": {},
     "output_type": "execute_result"
    }
   ],
   "source": [
    "#Example 3\n",
    "#Creating 5 partitions between 0 and 1\n",
    "np.linspace(0, 1, 5)"
   ]
  },
  {
   "cell_type": "markdown",
   "id": "e6b7714b",
   "metadata": {},
   "source": [
    "If the third argument is not passed, the function by default returns 50 partitions between the specified range"
   ]
  },
  {
   "cell_type": "code",
   "execution_count": 51,
   "id": "4f3e2fa4",
   "metadata": {},
   "outputs": [
    {
     "data": {
      "text/plain": [
       "array([ 0.        ,  0.20408163,  0.40816327,  0.6122449 ,  0.81632653,\n",
       "        1.02040816,  1.2244898 ,  1.42857143,  1.63265306,  1.83673469,\n",
       "        2.04081633,  2.24489796,  2.44897959,  2.65306122,  2.85714286,\n",
       "        3.06122449,  3.26530612,  3.46938776,  3.67346939,  3.87755102,\n",
       "        4.08163265,  4.28571429,  4.48979592,  4.69387755,  4.89795918,\n",
       "        5.10204082,  5.30612245,  5.51020408,  5.71428571,  5.91836735,\n",
       "        6.12244898,  6.32653061,  6.53061224,  6.73469388,  6.93877551,\n",
       "        7.14285714,  7.34693878,  7.55102041,  7.75510204,  7.95918367,\n",
       "        8.16326531,  8.36734694,  8.57142857,  8.7755102 ,  8.97959184,\n",
       "        9.18367347,  9.3877551 ,  9.59183673,  9.79591837, 10.        ])"
      ]
     },
     "execution_count": 51,
     "metadata": {},
     "output_type": "execute_result"
    }
   ],
   "source": [
    "np.linspace(0,10)"
   ]
  },
  {
   "cell_type": "markdown",
   "id": "57734706",
   "metadata": {},
   "source": [
    "## 5. Reshape `np.reshape()`"
   ]
  },
  {
   "cell_type": "markdown",
   "id": "fe4643bd",
   "metadata": {},
   "source": [
    "Finally, let's learn how to reshape any array using `np.reshape()`"
   ]
  },
  {
   "cell_type": "code",
   "execution_count": 66,
   "id": "8f9109c1",
   "metadata": {},
   "outputs": [
    {
     "data": {
      "text/plain": [
       "array([ 0,  1,  2,  3,  4,  5,  6,  7,  8,  9, 10, 11, 12, 13, 14, 15, 16,\n",
       "       17, 18, 19, 20, 21, 22, 23, 24])"
      ]
     },
     "execution_count": 66,
     "metadata": {},
     "output_type": "execute_result"
    }
   ],
   "source": [
    "#Create a 1D array of 25 elements\n",
    "arr = np.arange(0, 25)\n",
    "arr"
   ]
  },
  {
   "cell_type": "code",
   "execution_count": 59,
   "id": "761b2568",
   "metadata": {},
   "outputs": [
    {
     "data": {
      "text/plain": [
       "(25,)"
      ]
     },
     "execution_count": 59,
     "metadata": {},
     "output_type": "execute_result"
    }
   ],
   "source": [
    "#Check the shape of array\n",
    "arr.shape"
   ]
  },
  {
   "cell_type": "code",
   "execution_count": 67,
   "id": "a4e5e3f4",
   "metadata": {},
   "outputs": [],
   "source": [
    "#Change the shape of arr to (5, 5)\n",
    "matrix = arr.reshape(5 ,5)"
   ]
  },
  {
   "cell_type": "code",
   "execution_count": 68,
   "id": "000535ac",
   "metadata": {},
   "outputs": [
    {
     "data": {
      "text/plain": [
       "array([[ 0,  1,  2,  3,  4],\n",
       "       [ 5,  6,  7,  8,  9],\n",
       "       [10, 11, 12, 13, 14],\n",
       "       [15, 16, 17, 18, 19],\n",
       "       [20, 21, 22, 23, 24]])"
      ]
     },
     "execution_count": 68,
     "metadata": {},
     "output_type": "execute_result"
    }
   ],
   "source": [
    "matrix"
   ]
  },
  {
   "cell_type": "code",
   "execution_count": 71,
   "id": "fc59f145",
   "metadata": {},
   "outputs": [
    {
     "data": {
      "text/plain": [
       "(5, 5)"
      ]
     },
     "execution_count": 71,
     "metadata": {},
     "output_type": "execute_result"
    }
   ],
   "source": [
    "matrix.shape"
   ]
  },
  {
   "cell_type": "markdown",
   "id": "ff01d24a",
   "metadata": {},
   "source": [
    "Note: While reshaping an array, you must ensure that the array has enough elements to be reshaped to the desired shape.\n",
    "\n",
    "Consider the below example:"
   ]
  },
  {
   "cell_type": "code",
   "execution_count": 73,
   "id": "b6c6506c",
   "metadata": {},
   "outputs": [
    {
     "ename": "ValueError",
     "evalue": "cannot reshape array of size 25 into shape (5,6)",
     "output_type": "error",
     "traceback": [
      "\u001b[1;31m---------------------------------------------------------------------------\u001b[0m",
      "\u001b[1;31mValueError\u001b[0m                                Traceback (most recent call last)",
      "\u001b[1;32m<ipython-input-73-febc85c23ce8>\u001b[0m in \u001b[0;36m<module>\u001b[1;34m\u001b[0m\n\u001b[1;32m----> 1\u001b[1;33m \u001b[0mmatrix2\u001b[0m \u001b[1;33m=\u001b[0m \u001b[0marr\u001b[0m\u001b[1;33m.\u001b[0m\u001b[0mreshape\u001b[0m\u001b[1;33m(\u001b[0m\u001b[1;36m5\u001b[0m\u001b[1;33m,\u001b[0m \u001b[1;36m6\u001b[0m\u001b[1;33m)\u001b[0m\u001b[1;33m\u001b[0m\u001b[1;33m\u001b[0m\u001b[0m\n\u001b[0m",
      "\u001b[1;31mValueError\u001b[0m: cannot reshape array of size 25 into shape (5,6)"
     ]
    }
   ],
   "source": [
    "#Example 2\n",
    "matrix2 = arr.reshape(5, 6)"
   ]
  },
  {
   "cell_type": "markdown",
   "id": "9fd7cbfc",
   "metadata": {},
   "source": [
    "The above cell was not executed successfully as the desired shape (5, 6) needs atleast 5 * 6 = 30 elements."
   ]
  },
  {
   "cell_type": "code",
   "execution_count": 76,
   "id": "0bbbe722",
   "metadata": {},
   "outputs": [
    {
     "data": {
      "text/plain": [
       "array([[ 0,  1,  2,  3,  4,  5,  6,  7,  8,  9, 10, 11, 12, 13, 14, 15,\n",
       "        16, 17, 18, 19, 20, 21, 22, 23, 24]])"
      ]
     },
     "execution_count": 76,
     "metadata": {},
     "output_type": "execute_result"
    }
   ],
   "source": [
    "#Example 3\n",
    "matrix2 = arr.reshape(1, 25)\n",
    "matrix2"
   ]
  },
  {
   "cell_type": "code",
   "execution_count": 78,
   "id": "2a8f6d31",
   "metadata": {},
   "outputs": [
    {
     "data": {
      "text/plain": [
       "(1, 25)"
      ]
     },
     "execution_count": 78,
     "metadata": {},
     "output_type": "execute_result"
    }
   ],
   "source": [
    "matrix2.shape"
   ]
  },
  {
   "cell_type": "markdown",
   "id": "500d6ce9",
   "metadata": {},
   "source": [
    "Notice in the above example, the array shape was changed to (1,25) which earlier was (25, 1)"
   ]
  },
  {
   "cell_type": "markdown",
   "id": "f66b0950",
   "metadata": {},
   "source": [
    "## Conclusion\n",
    "Above were the most commonly used methods to generate numpy arrays.\n",
    "Being a beginner to numpy, these were the functions which I used the most to generate numpy arrays and practice slicing and learn various other operations on numpy arrays.\n",
    "\n",
    "You may also try learning `np.random` to generate random numbers.\n"
   ]
  },
  {
   "cell_type": "code",
   "execution_count": 80,
   "id": "0e2270c7",
   "metadata": {},
   "outputs": [
    {
     "data": {
      "application/javascript": [
       "window.require && require([\"base/js/namespace\"],function(Jupyter){Jupyter.notebook.save_checkpoint()})"
      ],
      "text/plain": [
       "<IPython.core.display.Javascript object>"
      ]
     },
     "metadata": {},
     "output_type": "display_data"
    },
    {
     "name": "stdout",
     "output_type": "stream",
     "text": [
      "[jovian] Attempting to save notebook..\n",
      "[jovian] Updating notebook \"mayurjajoomj/numpy-array-operations\" on https://jovian.ai/\n",
      "[jovian] Uploading notebook..\n",
      "[jovian] Capturing environment..\n",
      "[jovian] Committed successfully! https://jovian.ai/mayurjajoomj/numpy-array-operations\n"
     ]
    },
    {
     "data": {
      "text/plain": [
       "'https://jovian.ai/mayurjajoomj/numpy-array-operations'"
      ]
     },
     "execution_count": 80,
     "metadata": {},
     "output_type": "execute_result"
    }
   ],
   "source": [
    "jovian.commit()"
   ]
  },
  {
   "cell_type": "code",
   "execution_count": 81,
   "id": "7c93f2b6",
   "metadata": {},
   "outputs": [
    {
     "data": {
      "application/javascript": [
       "window.require && require([\"base/js/namespace\"],function(Jupyter){Jupyter.notebook.save_checkpoint()})"
      ],
      "text/plain": [
       "<IPython.core.display.Javascript object>"
      ]
     },
     "metadata": {},
     "output_type": "display_data"
    },
    {
     "name": "stdout",
     "output_type": "stream",
     "text": [
      "[jovian] Attempting to save notebook..\n",
      "[jovian] Updating notebook \"mayurjajoomj/numpy-array-operations\" on https://jovian.ai/\n",
      "[jovian] Uploading notebook..\n",
      "[jovian] Capturing environment..\n",
      "[jovian] Committed successfully! https://jovian.ai/mayurjajoomj/numpy-array-operations\n",
      "[jovian] Submitting assignment..\n",
      "[jovian] Verify your submission at https://jovian.ai/learn/data-analysis-with-python-zero-to-pandas/assignment/assignment-2-numpy-array-operations\n"
     ]
    }
   ],
   "source": [
    "jovian.submit(assignment=\"zero-to-pandas-a2\")"
   ]
  }
 ],
 "metadata": {
  "kernelspec": {
   "display_name": "Python 3",
   "language": "python",
   "name": "python3"
  },
  "language_info": {
   "codemirror_mode": {
    "name": "ipython",
    "version": 3
   },
   "file_extension": ".py",
   "mimetype": "text/x-python",
   "name": "python",
   "nbconvert_exporter": "python",
   "pygments_lexer": "ipython3",
   "version": "3.8.8"
  }
 },
 "nbformat": 4,
 "nbformat_minor": 5
}
