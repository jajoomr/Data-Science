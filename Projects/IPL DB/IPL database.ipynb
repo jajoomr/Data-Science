{
 "cells": [
  {
   "cell_type": "markdown",
   "id": "46c9cafe",
   "metadata": {},
   "source": [
    "# IPL Analysis (Season 2007-18)"
   ]
  },
  {
   "cell_type": "markdown",
   "id": "972a2723",
   "metadata": {},
   "source": [
    "## Importing Libraries"
   ]
  },
  {
   "cell_type": "code",
   "execution_count": 631,
   "id": "759f698c",
   "metadata": {},
   "outputs": [],
   "source": [
    "import pandas as pd\n",
    "import seaborn as sns\n",
    "import numpy as np\n",
    "import matplotlib\n",
    "import matplotlib.pyplot as plt\n",
    "%matplotlib inline\n",
    "matplotlib.rcParams['font.size'] = 14"
   ]
  },
  {
   "cell_type": "code",
   "execution_count": 786,
   "id": "9b0edd66",
   "metadata": {},
   "outputs": [],
   "source": [
    "import jovian"
   ]
  },
  {
   "cell_type": "markdown",
   "id": "cc3c60ab",
   "metadata": {},
   "source": [
    "## Data Cleaning and Rearrangement"
   ]
  },
  {
   "cell_type": "code",
   "execution_count": 51,
   "id": "d41e9b80",
   "metadata": {},
   "outputs": [],
   "source": [
    "matches_df = pd.read_csv('matches.csv')"
   ]
  },
  {
   "cell_type": "code",
   "execution_count": 9,
   "id": "8ccc0676",
   "metadata": {},
   "outputs": [
    {
     "data": {
      "text/html": [
       "<div>\n",
       "<style scoped>\n",
       "    .dataframe tbody tr th:only-of-type {\n",
       "        vertical-align: middle;\n",
       "    }\n",
       "\n",
       "    .dataframe tbody tr th {\n",
       "        vertical-align: top;\n",
       "    }\n",
       "\n",
       "    .dataframe thead th {\n",
       "        text-align: right;\n",
       "    }\n",
       "</style>\n",
       "<table border=\"1\" class=\"dataframe\">\n",
       "  <thead>\n",
       "    <tr style=\"text-align: right;\">\n",
       "      <th></th>\n",
       "      <th>id</th>\n",
       "      <th>season</th>\n",
       "      <th>city</th>\n",
       "      <th>date</th>\n",
       "      <th>team1</th>\n",
       "      <th>team2</th>\n",
       "      <th>toss_winner</th>\n",
       "      <th>toss_decision</th>\n",
       "      <th>result</th>\n",
       "      <th>dl_applied</th>\n",
       "      <th>winner</th>\n",
       "      <th>win_by_runs</th>\n",
       "      <th>win_by_wickets</th>\n",
       "      <th>player_of_match</th>\n",
       "      <th>venue</th>\n",
       "      <th>umpire1</th>\n",
       "      <th>umpire2</th>\n",
       "      <th>umpire3</th>\n",
       "    </tr>\n",
       "  </thead>\n",
       "  <tbody>\n",
       "    <tr>\n",
       "      <th>0</th>\n",
       "      <td>1</td>\n",
       "      <td>2017</td>\n",
       "      <td>Hyderabad</td>\n",
       "      <td>2017-04-05</td>\n",
       "      <td>Sunrisers Hyderabad</td>\n",
       "      <td>Royal Challengers Bangalore</td>\n",
       "      <td>Royal Challengers Bangalore</td>\n",
       "      <td>field</td>\n",
       "      <td>normal</td>\n",
       "      <td>0</td>\n",
       "      <td>Sunrisers Hyderabad</td>\n",
       "      <td>35</td>\n",
       "      <td>0</td>\n",
       "      <td>Yuvraj Singh</td>\n",
       "      <td>Rajiv Gandhi International Stadium, Uppal</td>\n",
       "      <td>AY Dandekar</td>\n",
       "      <td>NJ Llong</td>\n",
       "      <td>NaN</td>\n",
       "    </tr>\n",
       "    <tr>\n",
       "      <th>1</th>\n",
       "      <td>2</td>\n",
       "      <td>2017</td>\n",
       "      <td>Pune</td>\n",
       "      <td>2017-04-06</td>\n",
       "      <td>Mumbai Indians</td>\n",
       "      <td>Rising Pune Supergiant</td>\n",
       "      <td>Rising Pune Supergiant</td>\n",
       "      <td>field</td>\n",
       "      <td>normal</td>\n",
       "      <td>0</td>\n",
       "      <td>Rising Pune Supergiant</td>\n",
       "      <td>0</td>\n",
       "      <td>7</td>\n",
       "      <td>SPD Smith</td>\n",
       "      <td>Maharashtra Cricket Association Stadium</td>\n",
       "      <td>A Nand Kishore</td>\n",
       "      <td>S Ravi</td>\n",
       "      <td>NaN</td>\n",
       "    </tr>\n",
       "    <tr>\n",
       "      <th>2</th>\n",
       "      <td>3</td>\n",
       "      <td>2017</td>\n",
       "      <td>Rajkot</td>\n",
       "      <td>2017-04-07</td>\n",
       "      <td>Gujarat Lions</td>\n",
       "      <td>Kolkata Knight Riders</td>\n",
       "      <td>Kolkata Knight Riders</td>\n",
       "      <td>field</td>\n",
       "      <td>normal</td>\n",
       "      <td>0</td>\n",
       "      <td>Kolkata Knight Riders</td>\n",
       "      <td>0</td>\n",
       "      <td>10</td>\n",
       "      <td>CA Lynn</td>\n",
       "      <td>Saurashtra Cricket Association Stadium</td>\n",
       "      <td>Nitin Menon</td>\n",
       "      <td>CK Nandan</td>\n",
       "      <td>NaN</td>\n",
       "    </tr>\n",
       "    <tr>\n",
       "      <th>3</th>\n",
       "      <td>4</td>\n",
       "      <td>2017</td>\n",
       "      <td>Indore</td>\n",
       "      <td>2017-04-08</td>\n",
       "      <td>Rising Pune Supergiant</td>\n",
       "      <td>Kings XI Punjab</td>\n",
       "      <td>Kings XI Punjab</td>\n",
       "      <td>field</td>\n",
       "      <td>normal</td>\n",
       "      <td>0</td>\n",
       "      <td>Kings XI Punjab</td>\n",
       "      <td>0</td>\n",
       "      <td>6</td>\n",
       "      <td>GJ Maxwell</td>\n",
       "      <td>Holkar Cricket Stadium</td>\n",
       "      <td>AK Chaudhary</td>\n",
       "      <td>C Shamshuddin</td>\n",
       "      <td>NaN</td>\n",
       "    </tr>\n",
       "    <tr>\n",
       "      <th>4</th>\n",
       "      <td>5</td>\n",
       "      <td>2017</td>\n",
       "      <td>Bangalore</td>\n",
       "      <td>2017-04-08</td>\n",
       "      <td>Royal Challengers Bangalore</td>\n",
       "      <td>Delhi Daredevils</td>\n",
       "      <td>Royal Challengers Bangalore</td>\n",
       "      <td>bat</td>\n",
       "      <td>normal</td>\n",
       "      <td>0</td>\n",
       "      <td>Royal Challengers Bangalore</td>\n",
       "      <td>15</td>\n",
       "      <td>0</td>\n",
       "      <td>KM Jadhav</td>\n",
       "      <td>M Chinnaswamy Stadium</td>\n",
       "      <td>NaN</td>\n",
       "      <td>NaN</td>\n",
       "      <td>NaN</td>\n",
       "    </tr>\n",
       "  </tbody>\n",
       "</table>\n",
       "</div>"
      ],
      "text/plain": [
       "   id  season       city        date                        team1  \\\n",
       "0   1    2017  Hyderabad  2017-04-05          Sunrisers Hyderabad   \n",
       "1   2    2017       Pune  2017-04-06               Mumbai Indians   \n",
       "2   3    2017     Rajkot  2017-04-07                Gujarat Lions   \n",
       "3   4    2017     Indore  2017-04-08       Rising Pune Supergiant   \n",
       "4   5    2017  Bangalore  2017-04-08  Royal Challengers Bangalore   \n",
       "\n",
       "                         team2                  toss_winner toss_decision  \\\n",
       "0  Royal Challengers Bangalore  Royal Challengers Bangalore         field   \n",
       "1       Rising Pune Supergiant       Rising Pune Supergiant         field   \n",
       "2        Kolkata Knight Riders        Kolkata Knight Riders         field   \n",
       "3              Kings XI Punjab              Kings XI Punjab         field   \n",
       "4             Delhi Daredevils  Royal Challengers Bangalore           bat   \n",
       "\n",
       "   result  dl_applied                       winner  win_by_runs  \\\n",
       "0  normal           0          Sunrisers Hyderabad           35   \n",
       "1  normal           0       Rising Pune Supergiant            0   \n",
       "2  normal           0        Kolkata Knight Riders            0   \n",
       "3  normal           0              Kings XI Punjab            0   \n",
       "4  normal           0  Royal Challengers Bangalore           15   \n",
       "\n",
       "   win_by_wickets player_of_match                                      venue  \\\n",
       "0               0    Yuvraj Singh  Rajiv Gandhi International Stadium, Uppal   \n",
       "1               7       SPD Smith    Maharashtra Cricket Association Stadium   \n",
       "2              10         CA Lynn     Saurashtra Cricket Association Stadium   \n",
       "3               6      GJ Maxwell                     Holkar Cricket Stadium   \n",
       "4               0       KM Jadhav                      M Chinnaswamy Stadium   \n",
       "\n",
       "          umpire1        umpire2  umpire3  \n",
       "0     AY Dandekar       NJ Llong      NaN  \n",
       "1  A Nand Kishore         S Ravi      NaN  \n",
       "2     Nitin Menon      CK Nandan      NaN  \n",
       "3    AK Chaudhary  C Shamshuddin      NaN  \n",
       "4             NaN            NaN      NaN  "
      ]
     },
     "execution_count": 9,
     "metadata": {},
     "output_type": "execute_result"
    }
   ],
   "source": [
    "matches_df.head()"
   ]
  },
  {
   "cell_type": "code",
   "execution_count": 8,
   "id": "e590132a",
   "metadata": {},
   "outputs": [
    {
     "name": "stdout",
     "output_type": "stream",
     "text": [
      "<class 'pandas.core.frame.DataFrame'>\n",
      "RangeIndex: 636 entries, 0 to 635\n",
      "Data columns (total 18 columns):\n",
      " #   Column           Non-Null Count  Dtype  \n",
      "---  ------           --------------  -----  \n",
      " 0   id               636 non-null    int64  \n",
      " 1   season           636 non-null    int64  \n",
      " 2   city             629 non-null    object \n",
      " 3   date             636 non-null    object \n",
      " 4   team1            636 non-null    object \n",
      " 5   team2            636 non-null    object \n",
      " 6   toss_winner      636 non-null    object \n",
      " 7   toss_decision    636 non-null    object \n",
      " 8   result           636 non-null    object \n",
      " 9   dl_applied       636 non-null    int64  \n",
      " 10  winner           633 non-null    object \n",
      " 11  win_by_runs      636 non-null    int64  \n",
      " 12  win_by_wickets   636 non-null    int64  \n",
      " 13  player_of_match  633 non-null    object \n",
      " 14  venue            636 non-null    object \n",
      " 15  umpire1          635 non-null    object \n",
      " 16  umpire2          635 non-null    object \n",
      " 17  umpire3          0 non-null      float64\n",
      "dtypes: float64(1), int64(5), object(12)\n",
      "memory usage: 89.6+ KB\n"
     ]
    }
   ],
   "source": [
    "matches_df.info()"
   ]
  },
  {
   "cell_type": "markdown",
   "id": "deb6fd53",
   "metadata": {},
   "source": [
    "\"Umpire 3\" has no data and hence is of no use. Let's begin with dropping this column"
   ]
  },
  {
   "cell_type": "code",
   "execution_count": 52,
   "id": "035efa61",
   "metadata": {},
   "outputs": [],
   "source": [
    "matches_df.drop(['umpire3'],axis=1, inplace=True)"
   ]
  },
  {
   "cell_type": "markdown",
   "id": "a7deb151",
   "metadata": {},
   "source": [
    "### Dealing with missing data:"
   ]
  },
  {
   "cell_type": "code",
   "execution_count": 53,
   "id": "3e5ee118",
   "metadata": {},
   "outputs": [
    {
     "data": {
      "text/plain": [
       "id                 0\n",
       "season             0\n",
       "city               7\n",
       "date               0\n",
       "team1              0\n",
       "team2              0\n",
       "toss_winner        0\n",
       "toss_decision      0\n",
       "result             0\n",
       "dl_applied         0\n",
       "winner             3\n",
       "win_by_runs        0\n",
       "win_by_wickets     0\n",
       "player_of_match    3\n",
       "venue              0\n",
       "umpire1            1\n",
       "umpire2            1\n",
       "dtype: int64"
      ]
     },
     "execution_count": 53,
     "metadata": {},
     "output_type": "execute_result"
    }
   ],
   "source": [
    "#Finding the colums with mising data\n",
    "matches_df.isnull().sum()"
   ]
  },
  {
   "cell_type": "code",
   "execution_count": 54,
   "id": "e185287a",
   "metadata": {},
   "outputs": [],
   "source": [
    "#Let's simply replace the null city and umpires' field with 'Unknown'\n",
    "matches_df[['city', 'umpire1', 'umpire2']] = matches_df[['city', 'umpire1', 'umpire2']].fillna('Unknown')"
   ]
  },
  {
   "cell_type": "code",
   "execution_count": 57,
   "id": "ff2cc402",
   "metadata": {},
   "outputs": [
    {
     "data": {
      "text/plain": [
       "id                 0\n",
       "season             0\n",
       "city               0\n",
       "date               0\n",
       "team1              0\n",
       "team2              0\n",
       "toss_winner        0\n",
       "toss_decision      0\n",
       "result             0\n",
       "dl_applied         0\n",
       "winner             3\n",
       "win_by_runs        0\n",
       "win_by_wickets     0\n",
       "player_of_match    3\n",
       "venue              0\n",
       "umpire1            0\n",
       "umpire2            0\n",
       "dtype: int64"
      ]
     },
     "execution_count": 57,
     "metadata": {},
     "output_type": "execute_result"
    }
   ],
   "source": [
    "matches_df.isnull().sum()"
   ]
  },
  {
   "cell_type": "markdown",
   "id": "c8ebbe6a",
   "metadata": {},
   "source": [
    "**Is there any relation between the null values of 'winner' and 'player_of_match'?**"
   ]
  },
  {
   "cell_type": "code",
   "execution_count": 63,
   "id": "93b50449",
   "metadata": {},
   "outputs": [
    {
     "data": {
      "text/html": [
       "<div>\n",
       "<style scoped>\n",
       "    .dataframe tbody tr th:only-of-type {\n",
       "        vertical-align: middle;\n",
       "    }\n",
       "\n",
       "    .dataframe tbody tr th {\n",
       "        vertical-align: top;\n",
       "    }\n",
       "\n",
       "    .dataframe thead th {\n",
       "        text-align: right;\n",
       "    }\n",
       "</style>\n",
       "<table border=\"1\" class=\"dataframe\">\n",
       "  <thead>\n",
       "    <tr style=\"text-align: right;\">\n",
       "      <th></th>\n",
       "      <th>id</th>\n",
       "      <th>season</th>\n",
       "      <th>city</th>\n",
       "      <th>date</th>\n",
       "      <th>team1</th>\n",
       "      <th>team2</th>\n",
       "      <th>toss_winner</th>\n",
       "      <th>toss_decision</th>\n",
       "      <th>result</th>\n",
       "      <th>dl_applied</th>\n",
       "      <th>winner</th>\n",
       "      <th>win_by_runs</th>\n",
       "      <th>win_by_wickets</th>\n",
       "      <th>player_of_match</th>\n",
       "      <th>venue</th>\n",
       "      <th>umpire1</th>\n",
       "      <th>umpire2</th>\n",
       "    </tr>\n",
       "  </thead>\n",
       "  <tbody>\n",
       "    <tr>\n",
       "      <th>300</th>\n",
       "      <td>301</td>\n",
       "      <td>2011</td>\n",
       "      <td>Delhi</td>\n",
       "      <td>2011-05-21</td>\n",
       "      <td>Delhi Daredevils</td>\n",
       "      <td>Pune Warriors</td>\n",
       "      <td>Delhi Daredevils</td>\n",
       "      <td>bat</td>\n",
       "      <td>no result</td>\n",
       "      <td>0</td>\n",
       "      <td>NaN</td>\n",
       "      <td>0</td>\n",
       "      <td>0</td>\n",
       "      <td>NaN</td>\n",
       "      <td>Feroz Shah Kotla</td>\n",
       "      <td>SS Hazare</td>\n",
       "      <td>RJ Tucker</td>\n",
       "    </tr>\n",
       "    <tr>\n",
       "      <th>545</th>\n",
       "      <td>546</td>\n",
       "      <td>2015</td>\n",
       "      <td>Bangalore</td>\n",
       "      <td>2015-04-29</td>\n",
       "      <td>Royal Challengers Bangalore</td>\n",
       "      <td>Rajasthan Royals</td>\n",
       "      <td>Rajasthan Royals</td>\n",
       "      <td>field</td>\n",
       "      <td>no result</td>\n",
       "      <td>0</td>\n",
       "      <td>NaN</td>\n",
       "      <td>0</td>\n",
       "      <td>0</td>\n",
       "      <td>NaN</td>\n",
       "      <td>M Chinnaswamy Stadium</td>\n",
       "      <td>JD Cloete</td>\n",
       "      <td>PG Pathak</td>\n",
       "    </tr>\n",
       "    <tr>\n",
       "      <th>570</th>\n",
       "      <td>571</td>\n",
       "      <td>2015</td>\n",
       "      <td>Bangalore</td>\n",
       "      <td>2015-05-17</td>\n",
       "      <td>Delhi Daredevils</td>\n",
       "      <td>Royal Challengers Bangalore</td>\n",
       "      <td>Royal Challengers Bangalore</td>\n",
       "      <td>field</td>\n",
       "      <td>no result</td>\n",
       "      <td>0</td>\n",
       "      <td>NaN</td>\n",
       "      <td>0</td>\n",
       "      <td>0</td>\n",
       "      <td>NaN</td>\n",
       "      <td>M Chinnaswamy Stadium</td>\n",
       "      <td>HDPK Dharmasena</td>\n",
       "      <td>K Srinivasan</td>\n",
       "    </tr>\n",
       "  </tbody>\n",
       "</table>\n",
       "</div>"
      ],
      "text/plain": [
       "      id  season       city        date                        team1  \\\n",
       "300  301    2011      Delhi  2011-05-21             Delhi Daredevils   \n",
       "545  546    2015  Bangalore  2015-04-29  Royal Challengers Bangalore   \n",
       "570  571    2015  Bangalore  2015-05-17             Delhi Daredevils   \n",
       "\n",
       "                           team2                  toss_winner toss_decision  \\\n",
       "300                Pune Warriors             Delhi Daredevils           bat   \n",
       "545             Rajasthan Royals             Rajasthan Royals         field   \n",
       "570  Royal Challengers Bangalore  Royal Challengers Bangalore         field   \n",
       "\n",
       "        result  dl_applied winner  win_by_runs  win_by_wickets  \\\n",
       "300  no result           0    NaN            0               0   \n",
       "545  no result           0    NaN            0               0   \n",
       "570  no result           0    NaN            0               0   \n",
       "\n",
       "    player_of_match                  venue          umpire1       umpire2  \n",
       "300             NaN       Feroz Shah Kotla        SS Hazare     RJ Tucker  \n",
       "545             NaN  M Chinnaswamy Stadium        JD Cloete     PG Pathak  \n",
       "570             NaN  M Chinnaswamy Stadium  HDPK Dharmasena  K Srinivasan  "
      ]
     },
     "execution_count": 63,
     "metadata": {},
     "output_type": "execute_result"
    }
   ],
   "source": [
    "matches_df[matches_df['winner'].isnull() == True]"
   ]
  },
  {
   "cell_type": "markdown",
   "id": "d6e0fc8d",
   "metadata": {},
   "source": [
    "*It can be clearly seen that when the match result was 'no result', the fields 'winner' and 'player_of_match' is null*"
   ]
  },
  {
   "cell_type": "code",
   "execution_count": 67,
   "id": "a980eaaf",
   "metadata": {},
   "outputs": [],
   "source": [
    "#Replacing the null fiels with value \"None\"\n",
    "matches_df[['winner', 'player_of_match']] = matches_df[['winner', 'player_of_match']].fillna('None')"
   ]
  },
  {
   "cell_type": "code",
   "execution_count": 68,
   "id": "56259b27",
   "metadata": {},
   "outputs": [
    {
     "data": {
      "text/plain": [
       "id                 0\n",
       "season             0\n",
       "city               0\n",
       "date               0\n",
       "team1              0\n",
       "team2              0\n",
       "toss_winner        0\n",
       "toss_decision      0\n",
       "result             0\n",
       "dl_applied         0\n",
       "winner             0\n",
       "win_by_runs        0\n",
       "win_by_wickets     0\n",
       "player_of_match    0\n",
       "venue              0\n",
       "umpire1            0\n",
       "umpire2            0\n",
       "dtype: int64"
      ]
     },
     "execution_count": 68,
     "metadata": {},
     "output_type": "execute_result"
    }
   ],
   "source": [
    "matches_df.isnull().sum()"
   ]
  },
  {
   "cell_type": "markdown",
   "id": "2d423227",
   "metadata": {},
   "source": [
    "**Removing redundant team names**"
   ]
  },
  {
   "cell_type": "code",
   "execution_count": 69,
   "id": "19f1d08a",
   "metadata": {},
   "outputs": [
    {
     "data": {
      "text/plain": [
       "array(['Sunrisers Hyderabad', 'Mumbai Indians', 'Gujarat Lions',\n",
       "       'Rising Pune Supergiant', 'Royal Challengers Bangalore',\n",
       "       'Kolkata Knight Riders', 'Delhi Daredevils', 'Kings XI Punjab',\n",
       "       'Chennai Super Kings', 'Rajasthan Royals', 'Deccan Chargers',\n",
       "       'Kochi Tuskers Kerala', 'Pune Warriors', 'Rising Pune Supergiants'],\n",
       "      dtype=object)"
      ]
     },
     "execution_count": 69,
     "metadata": {},
     "output_type": "execute_result"
    }
   ],
   "source": [
    "matches_df['team1'].unique()"
   ]
  },
  {
   "cell_type": "markdown",
   "id": "092f353d",
   "metadata": {},
   "source": [
    "Over the seasons, teams have changed their names, Hence renaming the team names (based on their cities) will help us drive better information from the data."
   ]
  },
  {
   "cell_type": "code",
   "execution_count": 70,
   "id": "1025dbc5",
   "metadata": {},
   "outputs": [],
   "source": [
    "#Renaming Pune's teams\n",
    "matches_df = matches_df.replace('Rising Pune Supergiant', 'Rising Pune Supergiants')\n",
    "matches_df = matches_df.replace('Pune Warriors', 'Rising Pune Supergiants')\n",
    "#Renaming Hyderabad's team\n",
    "matches_df = matches_df.replace('Deccan Chargers','Sunrisers Hyderabad')"
   ]
  },
  {
   "cell_type": "code",
   "execution_count": 73,
   "id": "2c6bc097",
   "metadata": {
    "scrolled": true
   },
   "outputs": [
    {
     "data": {
      "text/plain": [
       "array(['Sunrisers Hyderabad', 'Mumbai Indians', 'Gujarat Lions',\n",
       "       'Rising Pune Supergiants', 'Royal Challengers Bangalore',\n",
       "       'Kolkata Knight Riders', 'Delhi Daredevils', 'Kings XI Punjab',\n",
       "       'Chennai Super Kings', 'Rajasthan Royals', 'Kochi Tuskers Kerala'],\n",
       "      dtype=object)"
      ]
     },
     "execution_count": 73,
     "metadata": {},
     "output_type": "execute_result"
    }
   ],
   "source": [
    "matches_df['team1'].unique()"
   ]
  },
  {
   "cell_type": "markdown",
   "id": "80f72e5c",
   "metadata": {},
   "source": [
    "## Data Analysis"
   ]
  },
  {
   "cell_type": "markdown",
   "id": "4c1fbcc5",
   "metadata": {},
   "source": [
    "Lets' start with analysing the data having done with cleaning and arranging it."
   ]
  },
  {
   "cell_type": "markdown",
   "id": "cc56ec38",
   "metadata": {},
   "source": [
    "**Q. In which season were most number of matches played?**"
   ]
  },
  {
   "cell_type": "code",
   "execution_count": 719,
   "id": "412c47fa",
   "metadata": {
    "scrolled": true
   },
   "outputs": [
    {
     "data": {
      "text/html": [
       "<div>\n",
       "<style scoped>\n",
       "    .dataframe tbody tr th:only-of-type {\n",
       "        vertical-align: middle;\n",
       "    }\n",
       "\n",
       "    .dataframe tbody tr th {\n",
       "        vertical-align: top;\n",
       "    }\n",
       "\n",
       "    .dataframe thead th {\n",
       "        text-align: right;\n",
       "    }\n",
       "</style>\n",
       "<table border=\"1\" class=\"dataframe\">\n",
       "  <thead>\n",
       "    <tr style=\"text-align: right;\">\n",
       "      <th></th>\n",
       "      <th>Season</th>\n",
       "      <th>Number of Matches</th>\n",
       "    </tr>\n",
       "  </thead>\n",
       "  <tbody>\n",
       "    <tr>\n",
       "      <th>0</th>\n",
       "      <td>2008</td>\n",
       "      <td>58</td>\n",
       "    </tr>\n",
       "    <tr>\n",
       "      <th>1</th>\n",
       "      <td>2009</td>\n",
       "      <td>57</td>\n",
       "    </tr>\n",
       "    <tr>\n",
       "      <th>2</th>\n",
       "      <td>2010</td>\n",
       "      <td>60</td>\n",
       "    </tr>\n",
       "    <tr>\n",
       "      <th>3</th>\n",
       "      <td>2011</td>\n",
       "      <td>73</td>\n",
       "    </tr>\n",
       "    <tr>\n",
       "      <th>4</th>\n",
       "      <td>2012</td>\n",
       "      <td>74</td>\n",
       "    </tr>\n",
       "    <tr>\n",
       "      <th>5</th>\n",
       "      <td>2013</td>\n",
       "      <td>76</td>\n",
       "    </tr>\n",
       "    <tr>\n",
       "      <th>6</th>\n",
       "      <td>2014</td>\n",
       "      <td>60</td>\n",
       "    </tr>\n",
       "    <tr>\n",
       "      <th>7</th>\n",
       "      <td>2015</td>\n",
       "      <td>59</td>\n",
       "    </tr>\n",
       "    <tr>\n",
       "      <th>8</th>\n",
       "      <td>2016</td>\n",
       "      <td>60</td>\n",
       "    </tr>\n",
       "    <tr>\n",
       "      <th>9</th>\n",
       "      <td>2017</td>\n",
       "      <td>59</td>\n",
       "    </tr>\n",
       "  </tbody>\n",
       "</table>\n",
       "</div>"
      ],
      "text/plain": [
       "   Season  Number of Matches\n",
       "0    2008                 58\n",
       "1    2009                 57\n",
       "2    2010                 60\n",
       "3    2011                 73\n",
       "4    2012                 74\n",
       "5    2013                 76\n",
       "6    2014                 60\n",
       "7    2015                 59\n",
       "8    2016                 60\n",
       "9    2017                 59"
      ]
     },
     "execution_count": 719,
     "metadata": {},
     "output_type": "execute_result"
    }
   ],
   "source": [
    "most_matches_in_season = matches_df.groupby('season').size().reset_index()\n",
    "most_matches_in_season.columns = ['Season', 'Number of Matches']\n",
    "most_matches_in_season"
   ]
  },
  {
   "cell_type": "code",
   "execution_count": 785,
   "id": "ca89f8c0",
   "metadata": {},
   "outputs": [
    {
     "data": {
      "image/png": "[encoded data removed]",
      "text/plain": [
       "<Figure size 720x360 with 1 Axes>"
      ]
     },
     "metadata": {
      "needs_background": "light"
     },
     "output_type": "display_data"
    }
   ],
   "source": [
    "plt.figure(figsize = (10,5))\n",
    "plt.title('IPL-Season Vs Matches(2008-17)')\n",
    "sns.barplot(data = most_matches_in_season,\n",
    "            x = 'Season',\n",
    "            y = 'Number of Matches',\n",
    "            palette='rocket');"
   ]
  },
  {
   "cell_type": "markdown",
   "id": "ec1399e8",
   "metadata": {},
   "source": [
    "Most matches were played in the Season 2013 and just a few less matches were played in seasons 2012 and 2011."
   ]
  },
  {
   "cell_type": "markdown",
   "id": "5bd869eb",
   "metadata": {},
   "source": [
    "**Q. Which city has hosted most number of matches?**"
   ]
  },
  {
   "cell_type": "code",
   "execution_count": 775,
   "id": "72209b02",
   "metadata": {
    "scrolled": true
   },
   "outputs": [],
   "source": [
    "cities = matches_df['city'].value_counts().head(10).reset_index()\n",
    "cities.columns = ['Host', 'Matches']"
   ]
  },
  {
   "cell_type": "code",
   "execution_count": 802,
   "id": "28a1a162",
   "metadata": {},
   "outputs": [
    {
     "data": {
      "image/png": "[encoded data removed]",
      "text/plain": [
       "<Figure size 720x432 with 1 Axes>"
      ]
     },
     "metadata": {
      "needs_background": "light"
     },
     "output_type": "display_data"
    }
   ],
   "source": [
    "plt.figure(figsize = (10,6))\n",
    "plt.title('Top 10 IPL Hosts(2008-17)')\n",
    "plt.xticks(rotation = 60)\n",
    "plot = sns.barplot(data = cities,\n",
    "            x = 'Host',\n",
    "            y = 'Matches',\n",
    "            palette='husl');\n",
    "plot.set(xlabel=None);"
   ]
  },
  {
   "cell_type": "markdown",
   "id": "1c3aae2b",
   "metadata": {},
   "source": [
    "It can be clearly seen that Mumbai has hosted most number of IPL matches."
   ]
  },
  {
   "cell_type": "markdown",
   "id": "4aec624e",
   "metadata": {},
   "source": [
    "**Q. Which Umpire is the most trusted in IPL?**"
   ]
  },
  {
   "cell_type": "code",
   "execution_count": 799,
   "id": "f7d86527",
   "metadata": {},
   "outputs": [],
   "source": [
    "most_trusted_umpires = pd.concat([matches_df['umpire1'], matches_df['umpire2']]).value_counts().head(10)"
   ]
  },
  {
   "cell_type": "code",
   "execution_count": 766,
   "id": "f8780172",
   "metadata": {},
   "outputs": [
    {
     "data": {
      "image/png": "[encoded data removed]",
      "text/plain": [
       "<Figure size 720x432 with 1 Axes>"
      ]
     },
     "metadata": {
      "needs_background": "light"
     },
     "output_type": "display_data"
    }
   ],
   "source": [
    "plt.figure(figsize = (10,6))\n",
    "plt.title(\"Top 10 most officiated Umpires in IPL (2008-17)\")\n",
    "plt.ylabel(\"Number of Matches\")\n",
    "plt.xticks(rotation = 60)\n",
    "sns.barplot(x = most_trusted_umpires.index,\n",
    "            y= most_trusted_umpires,\n",
    "            palette='crest_r');"
   ]
  },
  {
   "cell_type": "markdown",
   "id": "7776d0cf",
   "metadata": {},
   "source": [
    "As the chart depicts, \"HDPK Dharmasena\" and \"S Ravi\" have been the most trusted Umpires in IPL from season 2008-17 based on the number of matches they have been officiated where Dharmasena tops the list."
   ]
  },
  {
   "cell_type": "markdown",
   "id": "f03bdd18",
   "metadata": {},
   "source": [
    "**Q: Which team performed best season-wise?**"
   ]
  },
  {
   "cell_type": "code",
   "execution_count": 797,
   "id": "01e30110",
   "metadata": {},
   "outputs": [],
   "source": [
    "def max_wins(df):\n",
    "    return df['winner'].value_counts().idxmax()\n",
    "    \n",
    "seasonal_winners = matches_df.groupby('season').apply(max_wins).to_frame().reset_index()\n",
    "# seasonal_winners.rename(columns={'season':'Season',\"Most wins\": 0}, inplace=True)\n",
    "seasonal_winners.columns = ['Season', 'Team with most wins']"
   ]
  },
  {
   "cell_type": "code",
   "execution_count": 436,
   "id": "1c04a67a",
   "metadata": {},
   "outputs": [
    {
     "name": "stdout",
     "output_type": "stream",
     "text": [
      "The teams which performed the best season-wise are:\n"
     ]
    },
    {
     "data": {
      "text/html": [
       "<div>\n",
       "<style scoped>\n",
       "    .dataframe tbody tr th:only-of-type {\n",
       "        vertical-align: middle;\n",
       "    }\n",
       "\n",
       "    .dataframe tbody tr th {\n",
       "        vertical-align: top;\n",
       "    }\n",
       "\n",
       "    .dataframe thead th {\n",
       "        text-align: right;\n",
       "    }\n",
       "</style>\n",
       "<table border=\"1\" class=\"dataframe\">\n",
       "  <thead>\n",
       "    <tr style=\"text-align: right;\">\n",
       "      <th></th>\n",
       "      <th>Season</th>\n",
       "      <th>Team with most wins</th>\n",
       "    </tr>\n",
       "  </thead>\n",
       "  <tbody>\n",
       "    <tr>\n",
       "      <th>0</th>\n",
       "      <td>2008</td>\n",
       "      <td>Rajasthan Royals</td>\n",
       "    </tr>\n",
       "    <tr>\n",
       "      <th>1</th>\n",
       "      <td>2009</td>\n",
       "      <td>Delhi Daredevils</td>\n",
       "    </tr>\n",
       "    <tr>\n",
       "      <th>2</th>\n",
       "      <td>2010</td>\n",
       "      <td>Mumbai Indians</td>\n",
       "    </tr>\n",
       "    <tr>\n",
       "      <th>3</th>\n",
       "      <td>2011</td>\n",
       "      <td>Chennai Super Kings</td>\n",
       "    </tr>\n",
       "    <tr>\n",
       "      <th>4</th>\n",
       "      <td>2012</td>\n",
       "      <td>Kolkata Knight Riders</td>\n",
       "    </tr>\n",
       "    <tr>\n",
       "      <th>5</th>\n",
       "      <td>2013</td>\n",
       "      <td>Mumbai Indians</td>\n",
       "    </tr>\n",
       "    <tr>\n",
       "      <th>6</th>\n",
       "      <td>2014</td>\n",
       "      <td>Kings XI Punjab</td>\n",
       "    </tr>\n",
       "    <tr>\n",
       "      <th>7</th>\n",
       "      <td>2015</td>\n",
       "      <td>Chennai Super Kings</td>\n",
       "    </tr>\n",
       "    <tr>\n",
       "      <th>8</th>\n",
       "      <td>2016</td>\n",
       "      <td>Sunrisers Hyderabad</td>\n",
       "    </tr>\n",
       "    <tr>\n",
       "      <th>9</th>\n",
       "      <td>2017</td>\n",
       "      <td>Mumbai Indians</td>\n",
       "    </tr>\n",
       "  </tbody>\n",
       "</table>\n",
       "</div>"
      ],
      "text/plain": [
       "   Season    Team with most wins\n",
       "0    2008       Rajasthan Royals\n",
       "1    2009       Delhi Daredevils\n",
       "2    2010         Mumbai Indians\n",
       "3    2011    Chennai Super Kings\n",
       "4    2012  Kolkata Knight Riders\n",
       "5    2013         Mumbai Indians\n",
       "6    2014        Kings XI Punjab\n",
       "7    2015    Chennai Super Kings\n",
       "8    2016    Sunrisers Hyderabad\n",
       "9    2017         Mumbai Indians"
      ]
     },
     "execution_count": 436,
     "metadata": {},
     "output_type": "execute_result"
    }
   ],
   "source": [
    "print(\"The teams which performed the best season-wise are:\")\n",
    "seasonal_winners"
   ]
  },
  {
   "cell_type": "markdown",
   "id": "af2c50ec",
   "metadata": {},
   "source": [
    "**Q.  Which team has won the most matches which were hit by rain?**"
   ]
  },
  {
   "cell_type": "code",
   "execution_count": 757,
   "id": "c88759c4",
   "metadata": {},
   "outputs": [
    {
     "data": {
      "text/html": [
       "<div>\n",
       "<style scoped>\n",
       "    .dataframe tbody tr th:only-of-type {\n",
       "        vertical-align: middle;\n",
       "    }\n",
       "\n",
       "    .dataframe tbody tr th {\n",
       "        vertical-align: top;\n",
       "    }\n",
       "\n",
       "    .dataframe thead th {\n",
       "        text-align: right;\n",
       "    }\n",
       "</style>\n",
       "<table border=\"1\" class=\"dataframe\">\n",
       "  <thead>\n",
       "    <tr style=\"text-align: right;\">\n",
       "      <th></th>\n",
       "      <th>Team</th>\n",
       "      <th>Wins</th>\n",
       "    </tr>\n",
       "  </thead>\n",
       "  <tbody>\n",
       "    <tr>\n",
       "      <th>0</th>\n",
       "      <td>Kolkata Knight Riders</td>\n",
       "      <td>4</td>\n",
       "    </tr>\n",
       "    <tr>\n",
       "      <th>1</th>\n",
       "      <td>Royal Challengers Bangalore</td>\n",
       "      <td>3</td>\n",
       "    </tr>\n",
       "    <tr>\n",
       "      <th>2</th>\n",
       "      <td>Rising Pune Supergiants</td>\n",
       "      <td>2</td>\n",
       "    </tr>\n",
       "    <tr>\n",
       "      <th>3</th>\n",
       "      <td>Chennai Super Kings</td>\n",
       "      <td>2</td>\n",
       "    </tr>\n",
       "    <tr>\n",
       "      <th>4</th>\n",
       "      <td>Sunrisers Hyderabad</td>\n",
       "      <td>2</td>\n",
       "    </tr>\n",
       "    <tr>\n",
       "      <th>5</th>\n",
       "      <td>Delhi Daredevils</td>\n",
       "      <td>1</td>\n",
       "    </tr>\n",
       "    <tr>\n",
       "      <th>6</th>\n",
       "      <td>Kings XI Punjab</td>\n",
       "      <td>1</td>\n",
       "    </tr>\n",
       "    <tr>\n",
       "      <th>7</th>\n",
       "      <td>Kochi Tuskers Kerala</td>\n",
       "      <td>1</td>\n",
       "    </tr>\n",
       "  </tbody>\n",
       "</table>\n",
       "</div>"
      ],
      "text/plain": [
       "                          Team  Wins\n",
       "0        Kolkata Knight Riders     4\n",
       "1  Royal Challengers Bangalore     3\n",
       "2      Rising Pune Supergiants     2\n",
       "3          Chennai Super Kings     2\n",
       "4          Sunrisers Hyderabad     2\n",
       "5             Delhi Daredevils     1\n",
       "6              Kings XI Punjab     1\n",
       "7         Kochi Tuskers Kerala     1"
      ]
     },
     "execution_count": 757,
     "metadata": {},
     "output_type": "execute_result"
    }
   ],
   "source": [
    "matches_hit_by_rain = matches_df[matches_df['dl_applied'] == 1]['winner'].value_counts().reset_index()\n",
    "matches_hit_by_rain.columns = ['Team', 'Wins']\n",
    "matches_hit_by_rain"
   ]
  },
  {
   "cell_type": "code",
   "execution_count": 801,
   "id": "faf4961c",
   "metadata": {},
   "outputs": [
    {
     "data": {
      "image/png": "[encoded data removed]",
      "text/plain": [
       "<Figure size 720x432 with 1 Axes>"
      ]
     },
     "metadata": {
      "needs_background": "light"
     },
     "output_type": "display_data"
    }
   ],
   "source": [
    "plt.figure(figsize = (10,6))\n",
    "plt.title(\"IPL Matches hit by rain (2008-17)\")\n",
    "plt.xticks(rotation = 60)\n",
    "plot = sns.barplot(data= matches_hit_by_rain, \n",
    "            x = 'Team',\n",
    "            y= 'Wins',\n",
    "            palette='mako');\n",
    "plot.set(xlabel=None);"
   ]
  },
  {
   "cell_type": "markdown",
   "id": "65ac822f",
   "metadata": {},
   "source": [
    "Kolkata Knight Riders have won the most number of matches hit by rain."
   ]
  },
  {
   "cell_type": "markdown",
   "id": "a507467d",
   "metadata": {},
   "source": [
    "**Q. Which team has won with the biggest run margin?**"
   ]
  },
  {
   "cell_type": "code",
   "execution_count": 735,
   "id": "34988a5c",
   "metadata": {},
   "outputs": [
    {
     "data": {
      "text/html": [
       "<div>\n",
       "<style scoped>\n",
       "    .dataframe tbody tr th:only-of-type {\n",
       "        vertical-align: middle;\n",
       "    }\n",
       "\n",
       "    .dataframe tbody tr th {\n",
       "        vertical-align: top;\n",
       "    }\n",
       "\n",
       "    .dataframe thead th {\n",
       "        text-align: right;\n",
       "    }\n",
       "</style>\n",
       "<table border=\"1\" class=\"dataframe\">\n",
       "  <thead>\n",
       "    <tr style=\"text-align: right;\">\n",
       "      <th></th>\n",
       "      <th>winner</th>\n",
       "      <th>win_by_runs</th>\n",
       "    </tr>\n",
       "  </thead>\n",
       "  <tbody>\n",
       "    <tr>\n",
       "      <th>43</th>\n",
       "      <td>Mumbai Indians</td>\n",
       "      <td>146</td>\n",
       "    </tr>\n",
       "    <tr>\n",
       "      <th>619</th>\n",
       "      <td>Royal Challengers Bangalore</td>\n",
       "      <td>144</td>\n",
       "    </tr>\n",
       "    <tr>\n",
       "      <th>59</th>\n",
       "      <td>Kolkata Knight Riders</td>\n",
       "      <td>140</td>\n",
       "    </tr>\n",
       "    <tr>\n",
       "      <th>556</th>\n",
       "      <td>Royal Challengers Bangalore</td>\n",
       "      <td>138</td>\n",
       "    </tr>\n",
       "    <tr>\n",
       "      <th>410</th>\n",
       "      <td>Royal Challengers Bangalore</td>\n",
       "      <td>130</td>\n",
       "    </tr>\n",
       "    <tr>\n",
       "      <th>295</th>\n",
       "      <td>Kings XI Punjab</td>\n",
       "      <td>111</td>\n",
       "    </tr>\n",
       "    <tr>\n",
       "      <th>114</th>\n",
       "      <td>Rajasthan Royals</td>\n",
       "      <td>105</td>\n",
       "    </tr>\n",
       "    <tr>\n",
       "      <th>182</th>\n",
       "      <td>Mumbai Indians</td>\n",
       "      <td>98</td>\n",
       "    </tr>\n",
       "    <tr>\n",
       "      <th>8</th>\n",
       "      <td>Delhi Daredevils</td>\n",
       "      <td>97</td>\n",
       "    </tr>\n",
       "    <tr>\n",
       "      <th>541</th>\n",
       "      <td>Chennai Super Kings</td>\n",
       "      <td>97</td>\n",
       "    </tr>\n",
       "  </tbody>\n",
       "</table>\n",
       "</div>"
      ],
      "text/plain": [
       "                          winner  win_by_runs\n",
       "43                Mumbai Indians          146\n",
       "619  Royal Challengers Bangalore          144\n",
       "59         Kolkata Knight Riders          140\n",
       "556  Royal Challengers Bangalore          138\n",
       "410  Royal Challengers Bangalore          130\n",
       "295              Kings XI Punjab          111\n",
       "114             Rajasthan Royals          105\n",
       "182               Mumbai Indians           98\n",
       "8               Delhi Daredevils           97\n",
       "541          Chennai Super Kings           97"
      ]
     },
     "execution_count": 735,
     "metadata": {},
     "output_type": "execute_result"
    }
   ],
   "source": [
    "run_margin = matches_df[['winner', 'win_by_runs']].sort_values(by='win_by_runs', ascending=False).head(10)\n",
    "run_margin"
   ]
  },
  {
   "cell_type": "markdown",
   "id": "ad0d9139",
   "metadata": {},
   "source": [
    "Mumbai Indians have won by the biggest run margin between season 2008-17 by 146 runs while Royal Challengers Bangalore remains on the 2nd spot in this list winning with a difference of 144 runs."
   ]
  },
  {
   "cell_type": "markdown",
   "id": "b2752e7f",
   "metadata": {},
   "source": [
    "**Q. Which team has the highest win percentage despite losing toss?**"
   ]
  },
  {
   "cell_type": "code",
   "execution_count": 779,
   "id": "88684173",
   "metadata": {},
   "outputs": [],
   "source": [
    "def win_percentage(df):\n",
    "    return round(df['Wins'] / df['Total Matches'] , 4) * 100"
   ]
  },
  {
   "cell_type": "code",
   "execution_count": 780,
   "id": "36ba079e",
   "metadata": {},
   "outputs": [
    {
     "data": {
      "text/html": [
       "<div>\n",
       "<style scoped>\n",
       "    .dataframe tbody tr th:only-of-type {\n",
       "        vertical-align: middle;\n",
       "    }\n",
       "\n",
       "    .dataframe tbody tr th {\n",
       "        vertical-align: top;\n",
       "    }\n",
       "\n",
       "    .dataframe thead th {\n",
       "        text-align: right;\n",
       "    }\n",
       "</style>\n",
       "<table border=\"1\" class=\"dataframe\">\n",
       "  <thead>\n",
       "    <tr style=\"text-align: right;\">\n",
       "      <th></th>\n",
       "      <th>Team Name</th>\n",
       "      <th>Total Matches</th>\n",
       "      <th>Wins</th>\n",
       "      <th>Win Percentage</th>\n",
       "    </tr>\n",
       "  </thead>\n",
       "  <tbody>\n",
       "    <tr>\n",
       "      <th>0</th>\n",
       "      <td>Kings XI Punjab</td>\n",
       "      <td>82</td>\n",
       "      <td>44</td>\n",
       "      <td>53.66</td>\n",
       "    </tr>\n",
       "    <tr>\n",
       "      <th>1</th>\n",
       "      <td>Mumbai Indians</td>\n",
       "      <td>81</td>\n",
       "      <td>42</td>\n",
       "      <td>51.85</td>\n",
       "    </tr>\n",
       "    <tr>\n",
       "      <th>2</th>\n",
       "      <td>Sunrisers Hyderabad</td>\n",
       "      <td>77</td>\n",
       "      <td>38</td>\n",
       "      <td>49.35</td>\n",
       "    </tr>\n",
       "    <tr>\n",
       "      <th>3</th>\n",
       "      <td>Royal Challengers Bangalore</td>\n",
       "      <td>74</td>\n",
       "      <td>37</td>\n",
       "      <td>50.00</td>\n",
       "    </tr>\n",
       "    <tr>\n",
       "      <th>4</th>\n",
       "      <td>Delhi Daredevils</td>\n",
       "      <td>69</td>\n",
       "      <td>35</td>\n",
       "      <td>50.72</td>\n",
       "    </tr>\n",
       "    <tr>\n",
       "      <th>5</th>\n",
       "      <td>Kolkata Knight Riders</td>\n",
       "      <td>67</td>\n",
       "      <td>33</td>\n",
       "      <td>49.25</td>\n",
       "    </tr>\n",
       "    <tr>\n",
       "      <th>6</th>\n",
       "      <td>Chennai Super Kings</td>\n",
       "      <td>61</td>\n",
       "      <td>29</td>\n",
       "      <td>47.54</td>\n",
       "    </tr>\n",
       "    <tr>\n",
       "      <th>7</th>\n",
       "      <td>Rajasthan Royals</td>\n",
       "      <td>58</td>\n",
       "      <td>29</td>\n",
       "      <td>50.00</td>\n",
       "    </tr>\n",
       "    <tr>\n",
       "      <th>8</th>\n",
       "      <td>Rising Pune Supergiants</td>\n",
       "      <td>39</td>\n",
       "      <td>16</td>\n",
       "      <td>41.03</td>\n",
       "    </tr>\n",
       "    <tr>\n",
       "      <th>9</th>\n",
       "      <td>Gujarat Lions</td>\n",
       "      <td>8</td>\n",
       "      <td>3</td>\n",
       "      <td>37.50</td>\n",
       "    </tr>\n",
       "    <tr>\n",
       "      <th>10</th>\n",
       "      <td>Kochi Tuskers Kerala</td>\n",
       "      <td>6</td>\n",
       "      <td>3</td>\n",
       "      <td>50.00</td>\n",
       "    </tr>\n",
       "  </tbody>\n",
       "</table>\n",
       "</div>"
      ],
      "text/plain": [
       "                      Team Name  Total Matches  Wins  Win Percentage\n",
       "0               Kings XI Punjab             82    44           53.66\n",
       "1                Mumbai Indians             81    42           51.85\n",
       "2           Sunrisers Hyderabad             77    38           49.35\n",
       "3   Royal Challengers Bangalore             74    37           50.00\n",
       "4              Delhi Daredevils             69    35           50.72\n",
       "5         Kolkata Knight Riders             67    33           49.25\n",
       "6           Chennai Super Kings             61    29           47.54\n",
       "7              Rajasthan Royals             58    29           50.00\n",
       "8       Rising Pune Supergiants             39    16           41.03\n",
       "9                 Gujarat Lions              8     3           37.50\n",
       "10         Kochi Tuskers Kerala              6     3           50.00"
      ]
     },
     "execution_count": 780,
     "metadata": {},
     "output_type": "execute_result"
    }
   ],
   "source": [
    "#filtering records of the teams which lost toss but won matches\n",
    "lost_toss_result = matches_df[(matches_df['winner'] != matches_df['toss_winner'])]\n",
    "matches_played_losing_toss = pd.concat([lost_toss_result['team1'], lost_toss_result['team2']])\n",
    "\n",
    "#filtering team names, total matches and total wins\n",
    "matches_played_losing_toss = matches_played_losing_toss.value_counts().reset_index()\n",
    "matches_played_losing_toss.columns = ['Team Name','Total Matches']\n",
    "matches_played_losing_toss['Wins'] = lost_toss_result['winner'].value_counts().reset_index()['winner']\n",
    "\n",
    "# calculating win percentage\n",
    "matches_played_losing_toss['Win Percentage'] = win_percentage(matches_played_losing_toss)\n",
    "matches_played_losing_toss"
   ]
  },
  {
   "cell_type": "code",
   "execution_count": 805,
   "id": "1e403c48",
   "metadata": {},
   "outputs": [
    {
     "data": {
      "image/png": "[encoded data removed]",
      "text/plain": [
       "<Figure size 648x504 with 1 Axes>"
      ]
     },
     "metadata": {
      "needs_background": "light"
     },
     "output_type": "display_data"
    }
   ],
   "source": [
    "matches_played_losing_toss.sort_values(by= 'Win Percentage', ascending=False, inplace=True)\n",
    "plt.figure(figsize= (9,7))\n",
    "plt.title('Most Win percentage despite losing toss')\n",
    "plt.xticks(rotation = 60)\n",
    "plot = sns.barplot(data = matches_played_losing_toss, \n",
    "            x = 'Team Name', \n",
    "            y = 'Win Percentage', palette = 'viridis');\n",
    "plot.set(xlabel = None);"
   ]
  },
  {
   "cell_type": "markdown",
   "id": "0b43221a",
   "metadata": {},
   "source": [
    "Kings XI Punjab has the highest winning percentage despite losing toss while Mumbai Indians ranks 2nd with a minimal difference."
   ]
  },
  {
   "cell_type": "markdown",
   "id": "a951e103",
   "metadata": {},
   "source": [
    "**Q. Which team is the Greatest of All Time (GOAT)?**"
   ]
  },
  {
   "cell_type": "code",
   "execution_count": 781,
   "id": "1b73c603",
   "metadata": {},
   "outputs": [
    {
     "data": {
      "text/html": [
       "<div>\n",
       "<style scoped>\n",
       "    .dataframe tbody tr th:only-of-type {\n",
       "        vertical-align: middle;\n",
       "    }\n",
       "\n",
       "    .dataframe tbody tr th {\n",
       "        vertical-align: top;\n",
       "    }\n",
       "\n",
       "    .dataframe thead th {\n",
       "        text-align: right;\n",
       "    }\n",
       "</style>\n",
       "<table border=\"1\" class=\"dataframe\">\n",
       "  <thead>\n",
       "    <tr style=\"text-align: right;\">\n",
       "      <th></th>\n",
       "      <th>Team Name</th>\n",
       "      <th>Total Matches</th>\n",
       "      <th>Wins</th>\n",
       "      <th>Win Percentage</th>\n",
       "    </tr>\n",
       "  </thead>\n",
       "  <tbody>\n",
       "    <tr>\n",
       "      <th>0</th>\n",
       "      <td>Mumbai Indians</td>\n",
       "      <td>157</td>\n",
       "      <td>44</td>\n",
       "      <td>28.03</td>\n",
       "    </tr>\n",
       "    <tr>\n",
       "      <th>1</th>\n",
       "      <td>Royal Challengers Bangalore</td>\n",
       "      <td>152</td>\n",
       "      <td>42</td>\n",
       "      <td>27.63</td>\n",
       "    </tr>\n",
       "    <tr>\n",
       "      <th>2</th>\n",
       "      <td>Sunrisers Hyderabad</td>\n",
       "      <td>151</td>\n",
       "      <td>38</td>\n",
       "      <td>25.17</td>\n",
       "    </tr>\n",
       "    <tr>\n",
       "      <th>3</th>\n",
       "      <td>Kolkata Knight Riders</td>\n",
       "      <td>148</td>\n",
       "      <td>37</td>\n",
       "      <td>25.00</td>\n",
       "    </tr>\n",
       "    <tr>\n",
       "      <th>7</th>\n",
       "      <td>Rajasthan Royals</td>\n",
       "      <td>118</td>\n",
       "      <td>29</td>\n",
       "      <td>24.58</td>\n",
       "    </tr>\n",
       "    <tr>\n",
       "      <th>4</th>\n",
       "      <td>Kings XI Punjab</td>\n",
       "      <td>148</td>\n",
       "      <td>35</td>\n",
       "      <td>23.65</td>\n",
       "    </tr>\n",
       "    <tr>\n",
       "      <th>5</th>\n",
       "      <td>Delhi Daredevils</td>\n",
       "      <td>147</td>\n",
       "      <td>33</td>\n",
       "      <td>22.45</td>\n",
       "    </tr>\n",
       "    <tr>\n",
       "      <th>6</th>\n",
       "      <td>Chennai Super Kings</td>\n",
       "      <td>131</td>\n",
       "      <td>29</td>\n",
       "      <td>22.14</td>\n",
       "    </tr>\n",
       "    <tr>\n",
       "      <th>10</th>\n",
       "      <td>Kochi Tuskers Kerala</td>\n",
       "      <td>14</td>\n",
       "      <td>3</td>\n",
       "      <td>21.43</td>\n",
       "    </tr>\n",
       "    <tr>\n",
       "      <th>8</th>\n",
       "      <td>Rising Pune Supergiants</td>\n",
       "      <td>76</td>\n",
       "      <td>16</td>\n",
       "      <td>21.05</td>\n",
       "    </tr>\n",
       "    <tr>\n",
       "      <th>9</th>\n",
       "      <td>Gujarat Lions</td>\n",
       "      <td>30</td>\n",
       "      <td>3</td>\n",
       "      <td>10.00</td>\n",
       "    </tr>\n",
       "  </tbody>\n",
       "</table>\n",
       "</div>"
      ],
      "text/plain": [
       "                      Team Name  Total Matches  Wins  Win Percentage\n",
       "0                Mumbai Indians            157    44           28.03\n",
       "1   Royal Challengers Bangalore            152    42           27.63\n",
       "2           Sunrisers Hyderabad            151    38           25.17\n",
       "3         Kolkata Knight Riders            148    37           25.00\n",
       "7              Rajasthan Royals            118    29           24.58\n",
       "4               Kings XI Punjab            148    35           23.65\n",
       "5              Delhi Daredevils            147    33           22.45\n",
       "6           Chennai Super Kings            131    29           22.14\n",
       "10         Kochi Tuskers Kerala             14     3           21.43\n",
       "8       Rising Pune Supergiants             76    16           21.05\n",
       "9                 Gujarat Lions             30     3           10.00"
      ]
     },
     "execution_count": 781,
     "metadata": {},
     "output_type": "execute_result"
    }
   ],
   "source": [
    "total_matches = pd.concat([matches_df['team1'], matches_df['team2']]).value_counts().reset_index()\n",
    "total_matches.columns = ['Team Name', \"Total Matches\"]\n",
    "\n",
    "total_matches['Wins'] = lost_toss_result['winner'].value_counts().reset_index()['winner']\n",
    "\n",
    "# calculating win percentage\n",
    "total_matches['Win Percentage'] = win_percentage(total_matches)\n",
    "total_matches.sort_values(by='Win Percentage', ascending=False)"
   ]
  },
  {
   "cell_type": "markdown",
   "id": "76b60733",
   "metadata": {},
   "source": [
    "Mumbai Indians tops the table with a win percentage of 28.03 and Royal Challengers Bangalore just behind with 27.63 win percentage.\n",
    "\n",
    "Mumbai Indians can be clearly referred to as the Greatest of All Times."
   ]
  },
  {
   "cell_type": "markdown",
   "id": "6d660bd0",
   "metadata": {},
   "source": [
    "## Conclusion:"
   ]
  },
  {
   "cell_type": "markdown",
   "id": "5f9afa72",
   "metadata": {},
   "source": [
    "- Mumbai Indians have the highest winning percentage amongst all the teams and also have a great winning percentage despite losing toss.\n",
    "- It has topped the table with most wins in a season chart in the years 2010, 2013 and 2017. \n",
    "- Hence it can be referred to as the Greatest of All Time.\n",
    "- We now have many more insights of the data such as most trusted umpires are, the city which has hosted most IPL matches, seasonal top performers, etc.\n",
    "\n",
    "**Future work:**\n",
    "- There is a lot which can be derived through this data and hence many more questions can be answered.\n",
    "\n",
    "**Dataset Source:**\n",
    "https://www.kaggle.com/manasgarg/ipl\n"
   ]
  },
  {
   "cell_type": "code",
   "execution_count": 807,
   "id": "88b0ad79",
   "metadata": {},
   "outputs": [
    {
     "data": {
      "application/javascript": [
       "window.require && require([\"base/js/namespace\"],function(Jupyter){Jupyter.notebook.save_checkpoint()})"
      ],
      "text/plain": [
       "<IPython.core.display.Javascript object>"
      ]
     },
     "metadata": {},
     "output_type": "display_data"
    },
    {
     "name": "stdout",
     "output_type": "stream",
     "text": [
      "[jovian] Attempting to save notebook..\n",
      "[jovian] Updating notebook \"mayurjajoomj/ipl-data-analysis\" on https://jovian.ai/\n",
      "[jovian] Uploading notebook..\n",
      "[jovian] Committed successfully! https://jovian.ai/mayurjajoomj/ipl-data-analysis\n"
     ]
    },
    {
     "data": {
      "text/plain": [
       "'https://jovian.ai/mayurjajoomj/ipl-data-analysis'"
      ]
     },
     "execution_count": 807,
     "metadata": {},
     "output_type": "execute_result"
    }
   ],
   "source": [
    "jovian.commit(project='ipl-data-analysis', environment=None)"
   ]
  }
 ],
 "metadata": {
  "kernelspec": {
   "display_name": "Python 3",
   "language": "python",
   "name": "python3"
  },
  "language_info": {
   "codemirror_mode": {
    "name": "ipython",
    "version": 3
   },
   "file_extension": ".py",
   "mimetype": "text/x-python",
   "name": "python",
   "nbconvert_exporter": "python",
   "pygments_lexer": "ipython3",
   "version": "3.8.8"
  }
 },
 "nbformat": 4,
 "nbformat_minor": 5
}
